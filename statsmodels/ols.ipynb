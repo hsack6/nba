{
 "cells": [
  {
   "cell_type": "markdown",
   "metadata": {},
   "source": [
    "# OLS (ordinary least square; 普通の最小二乗法)\n",
    "参考：https://qiita.com/yubais/items/24f49df99b487fdc374d\n",
    "\n",
    "線形回帰など、回帰曲線を求めるためパラメータ推定方法の1つ。他には最尤推定など。"
   ]
  },
  {
   "cell_type": "code",
   "execution_count": 3,
   "metadata": {},
   "outputs": [
    {
     "name": "stdout",
     "output_type": "stream",
     "text": [
      "                            OLS Regression Results                            \n",
      "==============================================================================\n",
      "Dep. Variable:                      y   R-squared:                       0.831\n",
      "Model:                            OLS   Adj. R-squared:                  0.822\n",
      "Method:                 Least Squares   F-statistic:                     88.59\n",
      "Date:                Wed, 12 Dec 2018   Prob (F-statistic):           2.25e-08\n",
      "Time:                        16:06:17   Log-Likelihood:                -24.450\n",
      "No. Observations:                  20   AIC:                             52.90\n",
      "Df Residuals:                      18   BIC:                             54.89\n",
      "Df Model:                           1                                         \n",
      "Covariance Type:            nonrobust                                         \n",
      "==============================================================================\n",
      "                 coef    std err          t      P>|t|      [0.025      0.975]\n",
      "------------------------------------------------------------------------------\n",
      "const          1.2922      0.194      6.647      0.000       0.884       1.701\n",
      "x1             3.1611      0.336      9.412      0.000       2.455       3.867\n",
      "==============================================================================\n",
      "Omnibus:                        0.801   Durbin-Watson:                   2.495\n",
      "Prob(Omnibus):                  0.670   Jarque-Bera (JB):                0.653\n",
      "Skew:                          -0.402   Prob(JB):                        0.721\n",
      "Kurtosis:                       2.628   Cond. No.                         1.74\n",
      "==============================================================================\n",
      "\n",
      "Warnings:\n",
      "[1] Standard Errors assume that the covariance matrix of the errors is correctly specified.\n"
     ]
    },
    {
     "data": {
      "image/png": "[encoded data removed]",
      "text/plain": [
       "<Figure size 432x288 with 1 Axes>"
      ]
     },
     "metadata": {
      "needs_background": "light"
     },
     "output_type": "display_data"
    }
   ],
   "source": [
    "# coding: utf-8\n",
    "import numpy as np\n",
    "import statsmodels.api as sm\n",
    "import matplotlib.pyplot as plt\n",
    "\n",
    "# データを読み込む\n",
    "data = np.loadtxt(\"data.txt\")\n",
    "x = data.T[0]\n",
    "y = data.T[1]\n",
    "\n",
    "# サンプルの数\n",
    "nsample = x.size\n",
    "\n",
    "# [[ 1.  -1. ], [ 1.  -0.9], [ 1.  -0.8],,, [ 1.   0.8], [ 1.   0.9]]\n",
    "X = np.column_stack((np.repeat(1, nsample), x))\n",
    "\n",
    "# 回帰実行\n",
    "model = sm.OLS(y, X)\n",
    "results = model.fit()\n",
    "\n",
    "# 結果の概要を表示\n",
    "print(results.summary())\n",
    "\n",
    "# パラメータの推定値を取得\n",
    "a, b = results.params\n",
    "\n",
    "# プロットを表示\n",
    "plt.plot(x, y, 'o')\n",
    "plt.plot(x, a+b*x)\n",
    "plt.text(0, 0, \"a={:8.3f}, b={:8.3f}\".format(a,b))\n",
    "plt.show()"
   ]
  },
  {
   "cell_type": "code",
   "execution_count": 2,
   "metadata": {},
   "outputs": [
    {
     "name": "stdout",
     "output_type": "stream",
     "text": [
      "                            OLS Regression Results                            \n",
      "==============================================================================\n",
      "Dep. Variable:                      y   R-squared:                       0.781\n",
      "Model:                            OLS   Adj. R-squared:                  0.755\n",
      "Method:                 Least Squares   F-statistic:                     30.31\n",
      "Date:                Wed, 12 Dec 2018   Prob (F-statistic):           2.48e-06\n",
      "Time:                        16:06:10   Log-Likelihood:                -33.322\n",
      "No. Observations:                  20   AIC:                             72.64\n",
      "Df Residuals:                      17   BIC:                             75.63\n",
      "Df Model:                           2                                         \n",
      "Covariance Type:            nonrobust                                         \n",
      "==============================================================================\n",
      "                 coef    std err          t      P>|t|      [0.025      0.975]\n",
      "------------------------------------------------------------------------------\n",
      "const          3.2558      0.466      6.993      0.000       2.273       4.238\n",
      "x1             0.9582      0.274      3.493      0.003       0.379       1.537\n",
      "x2             1.9646      0.262      7.497      0.000       1.412       2.517\n",
      "==============================================================================\n",
      "Omnibus:                        0.348   Durbin-Watson:                   2.060\n",
      "Prob(Omnibus):                  0.840   Jarque-Bera (JB):                0.450\n",
      "Skew:                           0.257   Prob(JB):                        0.798\n",
      "Kurtosis:                       2.474   Cond. No.                         3.27\n",
      "==============================================================================\n",
      "\n",
      "Warnings:\n",
      "[1] Standard Errors assume that the covariance matrix of the errors is correctly specified.\n"
     ]
    },
    {
     "data": {
      "image/png": "[encoded data removed]",
      "text/plain": [
       "<Figure size 432x288 with 1 Axes>"
      ]
     },
     "metadata": {
      "needs_background": "light"
     },
     "output_type": "display_data"
    }
   ],
   "source": [
    "# coding: utf-8\n",
    "import numpy as np\n",
    "import statsmodels.api as sm\n",
    "import matplotlib.pyplot as plt\n",
    "\n",
    "# データ読み込み\n",
    "data = np.loadtxt(\"data2.txt\")\n",
    "x = data.T[0]\n",
    "y = data.T[1]\n",
    "\n",
    "# サンプルの数\n",
    "nsample = x.size\n",
    "\n",
    "# 行列Xの作成\n",
    "X = np.column_stack((np.repeat(1, nsample), x, x**2))\n",
    "\n",
    "# 回帰を実行\n",
    "model = sm.OLS(y, X)\n",
    "results = model.fit()\n",
    "\n",
    "# 結果の概要を表示\n",
    "print(results.summary())\n",
    "\n",
    "# パラメータの推定値を取得\n",
    "a, b, c = results.params\n",
    "\n",
    "# グラフで表示\n",
    "plt.plot(x, y, 'o')\n",
    "plt.plot(x, a+b*x+c*x**2)\n",
    "plt.title(\"a={:.4f}, b={:.4f}, c={:.4f}\".format(a,b,c))\n",
    "plt.show()"
   ]
  },
  {
   "cell_type": "code",
   "execution_count": null,
   "metadata": {},
   "outputs": [],
   "source": []
  }
 ],
 "metadata": {
  "kernelspec": {
   "display_name": "Python 3",
   "language": "python",
   "name": "python3"
  },
  "language_info": {
   "codemirror_mode": {
    "name": "ipython",
    "version": 3
   },
   "file_extension": ".py",
   "mimetype": "text/x-python",
   "name": "python",
   "nbconvert_exporter": "python",
   "pygments_lexer": "ipython3",
   "version": "3.6.7"
  }
 },
 "nbformat": 4,
 "nbformat_minor": 2
}
