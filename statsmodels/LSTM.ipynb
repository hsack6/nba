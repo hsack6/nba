{
 "cells": [
  {
   "cell_type": "markdown",
   "metadata": {},
   "source": [
    "# LSTM\n",
    "参考：http://rf00.hatenablog.com/entry/2018/02/10/180018"
   ]
  },
  {
   "cell_type": "code",
   "execution_count": 1,
   "metadata": {},
   "outputs": [],
   "source": [
    "import numpy as np\n",
    "import pandas as pd\n",
    "\n",
    "# グラフ描画\n",
    "from matplotlib import pylab as plt\n",
    "import seaborn as sns\n",
    "%matplotlib inline\n",
    "sns.set()"
   ]
  },
  {
   "cell_type": "code",
   "execution_count": 2,
   "metadata": {},
   "outputs": [],
   "source": [
    "# 正弦波\n",
    "data = np.sin(np.array([i for i in range(120)])/99 * 4 * 2 * np.pi)\n",
    "ws = 10"
   ]
  },
  {
   "cell_type": "code",
   "execution_count": 3,
   "metadata": {},
   "outputs": [],
   "source": [
    "from sklearn.preprocessing import MinMaxScaler\n",
    "\n",
    "#正規化\n",
    "sclr = MinMaxScaler(feature_range=(0, 1))\n",
    "data = sclr.fit_transform(data.reshape(-1, 1))"
   ]
  },
  {
   "cell_type": "code",
   "execution_count": 4,
   "metadata": {},
   "outputs": [],
   "source": [
    "# データ変換\n",
    "def convert(X, ws = 1, dim = 1):\n",
    "    data = []\n",
    "    target = []\n",
    "    \n",
    "    for i in range(ws, len(X)):\n",
    "        data.append(X[i - ws : i])\n",
    "        target.append(X[i])\n",
    "        \n",
    "    # データの整形\n",
    "    data = np.array(data).reshape(len(data), ws, dim)\n",
    "    target = np.array(target).reshape(-1,1)\n",
    "        \n",
    "    return data, target"
   ]
  },
  {
   "cell_type": "code",
   "execution_count": 5,
   "metadata": {},
   "outputs": [],
   "source": [
    "#変換\n",
    "X_d_c, y_d_c = convert(data, ws, 1)"
   ]
  },
  {
   "cell_type": "code",
   "execution_count": 6,
   "metadata": {},
   "outputs": [
    {
     "name": "stdout",
     "output_type": "stream",
     "text": [
      "(110, 10, 1)\n",
      "(110, 1)\n"
     ]
    }
   ],
   "source": [
    "print(X_d_c.shape)\n",
    "print(y_d_c.shape)"
   ]
  },
  {
   "cell_type": "code",
   "execution_count": 7,
   "metadata": {},
   "outputs": [],
   "source": [
    "### データの分割\n",
    "from sklearn.model_selection import train_test_split\n",
    "\n",
    "X_train_c, X_val_c, y_train_c, y_val_c = train_test_split(X_d_c, y_d_c, test_size = 0.3, shuffle = False)"
   ]
  },
  {
   "cell_type": "code",
   "execution_count": 8,
   "metadata": {
    "scrolled": true
   },
   "outputs": [
    {
     "name": "stdout",
     "output_type": "stream",
     "text": [
      "(77, 10, 1) (33, 10, 1) (77, 1) (33, 1)\n"
     ]
    }
   ],
   "source": [
    "print(X_train_c.shape, X_val_c.shape, y_train_c.shape, y_val_c.shape)"
   ]
  },
  {
   "cell_type": "markdown",
   "metadata": {},
   "source": [
    "dense挟む意味あるの？って思ったけど、あるっぽい。  \n",
    "statefulはTrueで次のバッチ処理に隠れ状態を継承する。普通は隠れ状態はバッチ処理単位で初期化(0)されるが、今回は時系列データでバッチ単位で完全に独立とは言えなさそうなのでTrueにしている。バッチサイズは1。ウィンドウサイズは10。  \n",
    "return_sequenceとは、TrueにしてRNNレイヤーの毎時刻の出力を得るか、Falseにして最後の時刻のみの出力を得るか、のフラグのようです。デフォルトではFalseになっていて、最後の時刻のみの出力を得ます。RNNレイヤーを複数積み重ねたい時は、各時刻で層間のデータのやり取りがあるので、(少なくとも最後の層以外は)必ずTrueにしなければならないようです。\n"
   ]
  },
  {
   "cell_type": "code",
   "execution_count": 9,
   "metadata": {},
   "outputs": [
    {
     "name": "stderr",
     "output_type": "stream",
     "text": [
      "Using TensorFlow backend.\n"
     ]
    }
   ],
   "source": [
    "import keras\n",
    "from keras.layers import Input, Embedding, LSTM, Dense\n",
    "from keras.models import Model\n",
    "from keras.optimizers import Adam\n",
    "from keras.layers.wrappers import Bidirectional\n",
    "\n",
    "#モデル設定\n",
    "main_input = Input(shape=(X_train_c.shape[1], X_train_c.shape[2]),\n",
    "                   dtype='float32',\n",
    "                   batch_shape = (1, X_train_c.shape[1], 1), \n",
    "                   name='main_input')\n",
    "\n",
    "#out = LSTM(8, stateful = True, return_sequences = True, activation='tanh')(main_input)\n",
    "#main_output = LSTM(1, stateful = True, activation='tanh')(main_input)\n",
    "out = LSTM(8, stateful = True, return_sequences = True, activation='tanh')(main_input)\n",
    "out = LSTM(16, stateful = True, activation='tanh')(main_input)\n",
    "main_output = Dense(1, activation='linear', name='output')(out)\n",
    "\n",
    "model = Model(inputs=[main_input], outputs=[main_output])\n",
    "model.compile(loss=\"mse\", optimizer=Adam())"
   ]
  },
  {
   "cell_type": "code",
   "execution_count": 10,
   "metadata": {},
   "outputs": [
    {
     "name": "stdout",
     "output_type": "stream",
     "text": [
      "Train on 77 samples, validate on 33 samples\n",
      "Epoch 1/1\n",
      "77/77 [==============================] - 1s 17ms/step - loss: 0.2036 - val_loss: 0.1333\n",
      "Train on 77 samples, validate on 33 samples\n",
      "Epoch 1/1\n",
      "77/77 [==============================] - 0s 5ms/step - loss: 0.1264 - val_loss: 0.1136\n",
      "Train on 77 samples, validate on 33 samples\n",
      "Epoch 1/1\n",
      "77/77 [==============================] - 0s 6ms/step - loss: 0.1065 - val_loss: 0.1005\n",
      "Train on 77 samples, validate on 33 samples\n",
      "Epoch 1/1\n",
      "77/77 [==============================] - 0s 5ms/step - loss: 0.0919 - val_loss: 0.0859\n",
      "Train on 77 samples, validate on 33 samples\n",
      "Epoch 1/1\n",
      "77/77 [==============================] - 0s 5ms/step - loss: 0.0744 - val_loss: 0.0607\n",
      "Train on 77 samples, validate on 33 samples\n",
      "Epoch 1/1\n",
      "77/77 [==============================] - 0s 5ms/step - loss: 0.0509 - val_loss: 0.0376\n",
      "Train on 77 samples, validate on 33 samples\n",
      "Epoch 1/1\n",
      "77/77 [==============================] - 0s 5ms/step - loss: 0.0272 - val_loss: 0.0122\n",
      "Train on 77 samples, validate on 33 samples\n",
      "Epoch 1/1\n",
      "77/77 [==============================] - 0s 5ms/step - loss: 0.0052 - val_loss: 0.0016\n",
      "Train on 77 samples, validate on 33 samples\n",
      "Epoch 1/1\n",
      "77/77 [==============================] - 0s 5ms/step - loss: 0.0017 - val_loss: 5.2062e-04\n",
      "Train on 77 samples, validate on 33 samples\n",
      "Epoch 1/1\n",
      "77/77 [==============================] - 0s 5ms/step - loss: 0.0011 - val_loss: 3.7182e-04\n",
      "Train on 77 samples, validate on 33 samples\n",
      "Epoch 1/1\n",
      "77/77 [==============================] - 0s 5ms/step - loss: 7.2423e-04 - val_loss: 2.2438e-04\n",
      "Train on 77 samples, validate on 33 samples\n",
      "Epoch 1/1\n",
      "77/77 [==============================] - 0s 5ms/step - loss: 5.5497e-04 - val_loss: 1.9226e-04\n",
      "Train on 77 samples, validate on 33 samples\n",
      "Epoch 1/1\n",
      "77/77 [==============================] - 0s 5ms/step - loss: 5.4114e-04 - val_loss: 3.0007e-04\n",
      "Train on 77 samples, validate on 33 samples\n",
      "Epoch 1/1\n",
      "77/77 [==============================] - 0s 5ms/step - loss: 6.6267e-04 - val_loss: 1.9741e-04\n",
      "Train on 77 samples, validate on 33 samples\n",
      "Epoch 1/1\n",
      "77/77 [==============================] - 0s 5ms/step - loss: 5.0213e-04 - val_loss: 2.6004e-04\n",
      "Train on 77 samples, validate on 33 samples\n",
      "Epoch 1/1\n",
      "77/77 [==============================] - 0s 5ms/step - loss: 4.6353e-04 - val_loss: 2.0746e-04\n",
      "Train on 77 samples, validate on 33 samples\n",
      "Epoch 1/1\n",
      "77/77 [==============================] - 0s 5ms/step - loss: 9.7308e-04 - val_loss: 0.0013\n",
      "Train on 77 samples, validate on 33 samples\n",
      "Epoch 1/1\n",
      "77/77 [==============================] - 0s 5ms/step - loss: 0.0015 - val_loss: 2.3167e-04\n",
      "Train on 77 samples, validate on 33 samples\n",
      "Epoch 1/1\n",
      "77/77 [==============================] - 0s 5ms/step - loss: 0.0017 - val_loss: 8.5182e-04\n",
      "Train on 77 samples, validate on 33 samples\n",
      "Epoch 1/1\n",
      "77/77 [==============================] - 0s 5ms/step - loss: 9.8433e-04 - val_loss: 6.8124e-04\n",
      "Train on 77 samples, validate on 33 samples\n",
      "Epoch 1/1\n",
      "77/77 [==============================] - 0s 6ms/step - loss: 0.0021 - val_loss: 8.3920e-04\n",
      "Train on 77 samples, validate on 33 samples\n",
      "Epoch 1/1\n",
      "77/77 [==============================] - 0s 5ms/step - loss: 7.6909e-04 - val_loss: 4.1612e-04\n",
      "Train on 77 samples, validate on 33 samples\n",
      "Epoch 1/1\n",
      "77/77 [==============================] - 0s 5ms/step - loss: 8.1331e-04 - val_loss: 1.6366e-04\n",
      "Train on 77 samples, validate on 33 samples\n",
      "Epoch 1/1\n",
      "77/77 [==============================] - 0s 5ms/step - loss: 5.7917e-04 - val_loss: 6.9267e-04\n",
      "Train on 77 samples, validate on 33 samples\n",
      "Epoch 1/1\n",
      "77/77 [==============================] - 0s 5ms/step - loss: 0.0012 - val_loss: 3.7929e-04\n",
      "Train on 77 samples, validate on 33 samples\n",
      "Epoch 1/1\n",
      "77/77 [==============================] - 0s 5ms/step - loss: 5.8177e-04 - val_loss: 4.4747e-04\n",
      "Train on 77 samples, validate on 33 samples\n",
      "Epoch 1/1\n",
      "77/77 [==============================] - 0s 6ms/step - loss: 7.3006e-04 - val_loss: 1.9184e-04\n",
      "Train on 77 samples, validate on 33 samples\n",
      "Epoch 1/1\n",
      "77/77 [==============================] - 1s 7ms/step - loss: 6.2858e-04 - val_loss: 8.8622e-04\n",
      "Train on 77 samples, validate on 33 samples\n",
      "Epoch 1/1\n",
      "77/77 [==============================] - 1s 7ms/step - loss: 0.0018 - val_loss: 8.9260e-04\n",
      "Train on 77 samples, validate on 33 samples\n",
      "Epoch 1/1\n",
      "77/77 [==============================] - 0s 5ms/step - loss: 8.9586e-04 - val_loss: 4.8570e-04\n",
      "Train on 77 samples, validate on 33 samples\n",
      "Epoch 1/1\n",
      "77/77 [==============================] - 0s 6ms/step - loss: 0.0011 - val_loss: 4.3281e-04\n",
      "Train on 77 samples, validate on 33 samples\n",
      "Epoch 1/1\n",
      "77/77 [==============================] - 1s 7ms/step - loss: 7.3291e-04 - val_loss: 6.1212e-04\n",
      "Train on 77 samples, validate on 33 samples\n",
      "Epoch 1/1\n",
      "77/77 [==============================] - 0s 6ms/step - loss: 0.0016 - val_loss: 0.0011\n",
      "Train on 77 samples, validate on 33 samples\n",
      "Epoch 1/1\n",
      "77/77 [==============================] - 0s 6ms/step - loss: 0.0010 - val_loss: 1.8138e-04\n",
      "Train on 77 samples, validate on 33 samples\n",
      "Epoch 1/1\n",
      "77/77 [==============================] - 0s 5ms/step - loss: 8.3669e-04 - val_loss: 5.0538e-04\n",
      "Train on 77 samples, validate on 33 samples\n",
      "Epoch 1/1\n",
      "77/77 [==============================] - 0s 6ms/step - loss: 5.9736e-04 - val_loss: 2.3641e-04\n",
      "Train on 77 samples, validate on 33 samples\n",
      "Epoch 1/1\n",
      "77/77 [==============================] - 1s 7ms/step - loss: 0.0011 - val_loss: 0.0012\n",
      "Train on 77 samples, validate on 33 samples\n",
      "Epoch 1/1\n",
      "77/77 [==============================] - 1s 7ms/step - loss: 0.0013 - val_loss: 1.1748e-04\n",
      "Train on 77 samples, validate on 33 samples\n",
      "Epoch 1/1\n",
      "77/77 [==============================] - 0s 6ms/step - loss: 6.2099e-04 - val_loss: 6.2647e-04\n",
      "Train on 77 samples, validate on 33 samples\n",
      "Epoch 1/1\n",
      "77/77 [==============================] - 0s 5ms/step - loss: 7.1207e-04 - val_loss: 1.0027e-04\n",
      "Train on 77 samples, validate on 33 samples\n",
      "Epoch 1/1\n",
      "77/77 [==============================] - 0s 5ms/step - loss: 7.5023e-04 - val_loss: 0.0011\n",
      "Train on 77 samples, validate on 33 samples\n",
      "Epoch 1/1\n",
      "77/77 [==============================] - 0s 6ms/step - loss: 0.0017 - val_loss: 7.5103e-04\n",
      "Train on 77 samples, validate on 33 samples\n",
      "Epoch 1/1\n",
      "77/77 [==============================] - 0s 5ms/step - loss: 7.7337e-04 - val_loss: 3.7051e-04\n",
      "Train on 77 samples, validate on 33 samples\n",
      "Epoch 1/1\n",
      "77/77 [==============================] - 0s 6ms/step - loss: 8.7992e-04 - val_loss: 4.1443e-04\n",
      "Train on 77 samples, validate on 33 samples\n",
      "Epoch 1/1\n",
      "77/77 [==============================] - 0s 5ms/step - loss: 6.4551e-04 - val_loss: 3.8697e-04\n",
      "Train on 77 samples, validate on 33 samples\n",
      "Epoch 1/1\n",
      "77/77 [==============================] - 0s 5ms/step - loss: 0.0013 - val_loss: 0.0013\n",
      "Train on 77 samples, validate on 33 samples\n",
      "Epoch 1/1\n",
      "77/77 [==============================] - 0s 5ms/step - loss: 0.0013 - val_loss: 9.1392e-05\n",
      "Train on 77 samples, validate on 33 samples\n",
      "Epoch 1/1\n",
      "77/77 [==============================] - 1s 7ms/step - loss: 6.3037e-04 - val_loss: 6.0252e-04\n",
      "Train on 77 samples, validate on 33 samples\n",
      "Epoch 1/1\n",
      "77/77 [==============================] - 0s 6ms/step - loss: 6.8058e-04 - val_loss: 8.6077e-05\n",
      "Train on 77 samples, validate on 33 samples\n",
      "Epoch 1/1\n",
      "77/77 [==============================] - 0s 6ms/step - loss: 7.2957e-04 - val_loss: 9.7037e-04\n",
      "Train on 77 samples, validate on 33 samples\n",
      "Epoch 1/1\n",
      "77/77 [==============================] - 1s 7ms/step - loss: 0.0015 - val_loss: 6.5441e-04\n",
      "Train on 77 samples, validate on 33 samples\n",
      "Epoch 1/1\n",
      "77/77 [==============================] - 0s 6ms/step - loss: 6.7312e-04 - val_loss: 2.8168e-04\n",
      "Train on 77 samples, validate on 33 samples\n",
      "Epoch 1/1\n",
      "77/77 [==============================] - 0s 6ms/step - loss: 7.2957e-04 - val_loss: 3.5567e-04\n",
      "Train on 77 samples, validate on 33 samples\n",
      "Epoch 1/1\n",
      "77/77 [==============================] - 1s 7ms/step - loss: 5.5049e-04 - val_loss: 2.8548e-04\n",
      "Train on 77 samples, validate on 33 samples\n",
      "Epoch 1/1\n",
      "77/77 [==============================] - 0s 6ms/step - loss: 0.0011 - val_loss: 0.0012\n",
      "Train on 77 samples, validate on 33 samples\n",
      "Epoch 1/1\n",
      "77/77 [==============================] - 0s 6ms/step - loss: 0.0013 - val_loss: 1.7320e-04\n",
      "Train on 77 samples, validate on 33 samples\n",
      "Epoch 1/1\n"
     ]
    },
    {
     "name": "stdout",
     "output_type": "stream",
     "text": [
      "77/77 [==============================] - 0s 5ms/step - loss: 5.6295e-04 - val_loss: 5.2918e-04\n",
      "Train on 77 samples, validate on 33 samples\n",
      "Epoch 1/1\n",
      "77/77 [==============================] - 0s 5ms/step - loss: 6.9892e-04 - val_loss: 1.3481e-04\n",
      "Train on 77 samples, validate on 33 samples\n",
      "Epoch 1/1\n",
      "77/77 [==============================] - 0s 5ms/step - loss: 5.5838e-04 - val_loss: 6.0812e-04\n",
      "Train on 77 samples, validate on 33 samples\n",
      "Epoch 1/1\n",
      "77/77 [==============================] - 0s 6ms/step - loss: 0.0013 - val_loss: 9.8263e-04\n",
      "Train on 77 samples, validate on 33 samples\n",
      "Epoch 1/1\n",
      "77/77 [==============================] - 0s 6ms/step - loss: 8.7192e-04 - val_loss: 1.1541e-04\n",
      "Train on 77 samples, validate on 33 samples\n",
      "Epoch 1/1\n",
      "77/77 [==============================] - 1s 7ms/step - loss: 6.6860e-04 - val_loss: 4.9296e-04\n",
      "Train on 77 samples, validate on 33 samples\n",
      "Epoch 1/1\n",
      "77/77 [==============================] - 0s 5ms/step - loss: 5.5554e-04 - val_loss: 1.0925e-04\n",
      "Train on 77 samples, validate on 33 samples\n",
      "Epoch 1/1\n",
      "77/77 [==============================] - 0s 5ms/step - loss: 6.0842e-04 - val_loss: 7.8050e-04\n",
      "Train on 77 samples, validate on 33 samples\n",
      "Epoch 1/1\n",
      "77/77 [==============================] - 0s 5ms/step - loss: 0.0011 - val_loss: 5.2097e-04\n",
      "Train on 77 samples, validate on 33 samples\n",
      "Epoch 1/1\n",
      "77/77 [==============================] - 0s 5ms/step - loss: 5.2515e-04 - val_loss: 3.0520e-04\n",
      "Train on 77 samples, validate on 33 samples\n",
      "Epoch 1/1\n",
      "77/77 [==============================] - 0s 5ms/step - loss: 7.4646e-04 - val_loss: 3.8216e-04\n",
      "Train on 77 samples, validate on 33 samples\n",
      "Epoch 1/1\n",
      "77/77 [==============================] - 0s 5ms/step - loss: 4.6471e-04 - val_loss: 1.6195e-04\n",
      "Train on 77 samples, validate on 33 samples\n",
      "Epoch 1/1\n",
      "77/77 [==============================] - 0s 5ms/step - loss: 6.0247e-04 - val_loss: 7.3293e-04\n",
      "Train on 77 samples, validate on 33 samples\n",
      "Epoch 1/1\n",
      "77/77 [==============================] - 0s 5ms/step - loss: 8.1951e-04 - val_loss: 2.2834e-04\n",
      "Train on 77 samples, validate on 33 samples\n",
      "Epoch 1/1\n",
      "77/77 [==============================] - 1s 7ms/step - loss: 4.4406e-04 - val_loss: 5.0940e-04\n",
      "Train on 77 samples, validate on 33 samples\n",
      "Epoch 1/1\n",
      "77/77 [==============================] - 0s 5ms/step - loss: 8.5404e-04 - val_loss: 4.1031e-04\n",
      "Train on 77 samples, validate on 33 samples\n",
      "Epoch 1/1\n",
      "77/77 [==============================] - 0s 5ms/step - loss: 6.1500e-04 - val_loss: 2.3453e-04\n",
      "Train on 77 samples, validate on 33 samples\n",
      "Epoch 1/1\n",
      "77/77 [==============================] - 1s 7ms/step - loss: 7.3304e-04 - val_loss: 8.1028e-04\n",
      "Train on 77 samples, validate on 33 samples\n",
      "Epoch 1/1\n",
      "77/77 [==============================] - 0s 5ms/step - loss: 7.2756e-04 - val_loss: 1.3824e-04\n",
      "Train on 77 samples, validate on 33 samples\n",
      "Epoch 1/1\n",
      "77/77 [==============================] - 0s 5ms/step - loss: 6.7430e-04 - val_loss: 7.2104e-04\n",
      "Train on 77 samples, validate on 33 samples\n",
      "Epoch 1/1\n",
      "77/77 [==============================] - 0s 5ms/step - loss: 9.4984e-04 - val_loss: 2.6365e-04\n",
      "Train on 77 samples, validate on 33 samples\n",
      "Epoch 1/1\n",
      "77/77 [==============================] - 0s 5ms/step - loss: 6.7495e-04 - val_loss: 5.7870e-04\n",
      "Train on 77 samples, validate on 33 samples\n",
      "Epoch 1/1\n",
      "77/77 [==============================] - 0s 5ms/step - loss: 9.1064e-04 - val_loss: 2.9853e-04\n",
      "Train on 77 samples, validate on 33 samples\n",
      "Epoch 1/1\n",
      "77/77 [==============================] - 0s 5ms/step - loss: 4.0001e-04 - val_loss: 7.0558e-04\n",
      "Train on 77 samples, validate on 33 samples\n",
      "Epoch 1/1\n",
      "77/77 [==============================] - 0s 5ms/step - loss: 0.0011 - val_loss: 2.6040e-04\n",
      "Train on 77 samples, validate on 33 samples\n",
      "Epoch 1/1\n",
      "77/77 [==============================] - 0s 5ms/step - loss: 5.9606e-04 - val_loss: 5.2327e-04\n",
      "Train on 77 samples, validate on 33 samples\n",
      "Epoch 1/1\n",
      "77/77 [==============================] - 0s 5ms/step - loss: 8.4319e-04 - val_loss: 1.9902e-04\n",
      "Train on 77 samples, validate on 33 samples\n",
      "Epoch 1/1\n",
      "77/77 [==============================] - 0s 5ms/step - loss: 4.0401e-04 - val_loss: 6.9928e-04\n",
      "Train on 77 samples, validate on 33 samples\n",
      "Epoch 1/1\n",
      "77/77 [==============================] - 0s 6ms/step - loss: 9.8136e-04 - val_loss: 1.8073e-04\n",
      "Train on 77 samples, validate on 33 samples\n",
      "Epoch 1/1\n",
      "77/77 [==============================] - 0s 6ms/step - loss: 6.2128e-04 - val_loss: 6.2801e-04\n",
      "Train on 77 samples, validate on 33 samples\n",
      "Epoch 1/1\n",
      "77/77 [==============================] - 0s 5ms/step - loss: 7.3333e-04 - val_loss: 1.0716e-04\n",
      "Train on 77 samples, validate on 33 samples\n",
      "Epoch 1/1\n",
      "77/77 [==============================] - 0s 6ms/step - loss: 7.5289e-04 - val_loss: 6.2120e-04\n",
      "Train on 77 samples, validate on 33 samples\n",
      "Epoch 1/1\n",
      "77/77 [==============================] - 0s 6ms/step - loss: 7.1181e-04 - val_loss: 2.5790e-04\n",
      "Train on 77 samples, validate on 33 samples\n",
      "Epoch 1/1\n",
      "77/77 [==============================] - 0s 5ms/step - loss: 8.6424e-04 - val_loss: 4.8512e-04\n",
      "Train on 77 samples, validate on 33 samples\n",
      "Epoch 1/1\n",
      "77/77 [==============================] - 0s 6ms/step - loss: 3.0948e-04 - val_loss: 5.0211e-04\n",
      "Train on 77 samples, validate on 33 samples\n",
      "Epoch 1/1\n",
      "77/77 [==============================] - 0s 6ms/step - loss: 0.0012 - val_loss: 2.0615e-04\n",
      "Train on 77 samples, validate on 33 samples\n",
      "Epoch 1/1\n",
      "77/77 [==============================] - 0s 6ms/step - loss: 5.4262e-04 - val_loss: 6.4133e-04\n",
      "Train on 77 samples, validate on 33 samples\n",
      "Epoch 1/1\n",
      "77/77 [==============================] - 0s 5ms/step - loss: 9.1303e-04 - val_loss: 9.8441e-05\n",
      "Train on 77 samples, validate on 33 samples\n",
      "Epoch 1/1\n",
      "77/77 [==============================] - 0s 5ms/step - loss: 9.2428e-04 - val_loss: 4.6739e-04\n",
      "Train on 77 samples, validate on 33 samples\n",
      "Epoch 1/1\n",
      "77/77 [==============================] - 0s 6ms/step - loss: 5.3868e-04 - val_loss: 4.2518e-04\n",
      "Train on 77 samples, validate on 33 samples\n",
      "Epoch 1/1\n",
      "77/77 [==============================] - 0s 5ms/step - loss: 9.8019e-04 - val_loss: 1.0683e-04\n",
      "Train on 77 samples, validate on 33 samples\n",
      "Epoch 1/1\n",
      "77/77 [==============================] - 0s 6ms/step - loss: 4.3146e-04 - val_loss: 5.0313e-04\n",
      "Train on 77 samples, validate on 33 samples\n",
      "Epoch 1/1\n",
      "77/77 [==============================] - 0s 6ms/step - loss: 6.1689e-04 - val_loss: 2.4214e-04\n",
      "Train on 77 samples, validate on 33 samples\n",
      "Epoch 1/1\n",
      "77/77 [==============================] - 0s 6ms/step - loss: 7.6975e-04 - val_loss: 2.1604e-04\n"
     ]
    }
   ],
   "source": [
    "#学習\n",
    "batch_size = 1\n",
    "n_epoch = 100\n",
    "\n",
    "log_loss = np.zeros(n_epoch)\n",
    "log_val_loss = np.zeros(n_epoch)\n",
    "models = []\n",
    "\n",
    "\n",
    "for i in range(n_epoch):\n",
    "    res = model.fit(X_train_c, y_train_c, batch_size = batch_size, \n",
    "          epochs = 1, validation_data=(X_val_c, y_val_c), verbose = 1, shuffle = False)\n",
    "    \n",
    "    #ロスを保存\n",
    "    log_loss[i] = res.history['loss'][0]\n",
    "    log_val_loss[i] = res.history['val_loss'][0]\n",
    "    models.append(res)\n",
    "    \n",
    "    model.reset_states() #毎回stateをリセット"
   ]
  },
  {
   "cell_type": "code",
   "execution_count": 11,
   "metadata": {},
   "outputs": [
    {
     "data": {
      "text/plain": [
       "<matplotlib.axes._subplots.AxesSubplot at 0x7f635166b710>"
      ]
     },
     "execution_count": 11,
     "metadata": {},
     "output_type": "execute_result"
    },
    {
     "data": {
      "image/png": "[encoded data removed]",
      "text/plain": [
       "<Figure size 432x288 with 1 Axes>"
      ]
     },
     "metadata": {
      "needs_background": "light"
     },
     "output_type": "display_data"
    }
   ],
   "source": [
    "import pandas as pd\n",
    "loss_df = pd.DataFrame([log_loss, log_val_loss]).T\n",
    "loss_df.columns = [\"loss\", \"val_loss\"]\n",
    "loss_df.plot()"
   ]
  },
  {
   "cell_type": "code",
   "execution_count": 12,
   "metadata": {},
   "outputs": [
    {
     "name": "stdout",
     "output_type": "stream",
     "text": [
      "48\n",
      "90\n"
     ]
    }
   ],
   "source": [
    "print(np.argsort(log_val_loss)[0])\n",
    "print(np.argsort(log_loss)[0])\n",
    "best_model = models[np.argsort(log_val_loss)[0]].model"
   ]
  },
  {
   "cell_type": "code",
   "execution_count": 13,
   "metadata": {},
   "outputs": [],
   "source": [
    "#各予測に予測結果を使う\n",
    "def pred_pred_data(model, X, X_val):\n",
    "    model.reset_states()\n",
    "\n",
    "    length = len(X_val)\n",
    "    prediction_train = np.zeros(len(X))\n",
    "    prediction = np.zeros(length)\n",
    "        \n",
    "    #train分まず予測する\n",
    "    for i in range(len(X)):\n",
    "        prediction_train[i] = model.predict(X[i].reshape(1,-1,1))[0]\n",
    "    \n",
    "    tmp = X[len(X) - 1, :, :].reshape(1,-1,1)#学習データの最後の値から予測していく\n",
    "    \n",
    "    #特定期間さきまで予測\n",
    "    for i in range(length):\n",
    "        prediction[i] = model.predict(tmp)[0]\n",
    "        \n",
    "        #次に予測に使うデータを更新\n",
    "        tmp = tmp[0, 1:, 0]\n",
    "        tmp = np.append(tmp, prediction[i]).reshape(1,-1,1)\n",
    "        #tmp = prediction[i].reshape(1,-1,1)\n",
    "    \n",
    "    model.reset_states()\n",
    "    \n",
    "    return np.hstack((prediction_train, prediction))"
   ]
  },
  {
   "cell_type": "code",
   "execution_count": 14,
   "metadata": {},
   "outputs": [
    {
     "name": "stdout",
     "output_type": "stream",
     "text": [
      "(110,) (110,)\n"
     ]
    },
    {
     "data": {
      "text/plain": [
       "<matplotlib.axes._subplots.AxesSubplot at 0x7f6350286908>"
      ]
     },
     "execution_count": 14,
     "metadata": {},
     "output_type": "execute_result"
    },
    {
     "data": {
      "image/png": "[encoded data removed]",
      "text/plain": [
       "<Figure size 432x288 with 1 Axes>"
      ]
     },
     "metadata": {
      "needs_background": "light"
     },
     "output_type": "display_data"
    }
   ],
   "source": [
    "#予測結果で予測\n",
    "pred2 = pred_pred_data(best_model, X_train_c, X_val_c)\n",
    "res2 = data[ws:].reshape(-1)\n",
    "print(res2.shape, pred2.shape)\n",
    "pd.DataFrame(np.vstack((res2, pred2)).T).plot()"
   ]
  }
 ],
 "metadata": {
  "kernelspec": {
   "display_name": "Python 3",
   "language": "python",
   "name": "python3"
  },
  "language_info": {
   "codemirror_mode": {
    "name": "ipython",
    "version": 3
   },
   "file_extension": ".py",
   "mimetype": "text/x-python",
   "name": "python",
   "nbconvert_exporter": "python",
   "pygments_lexer": "ipython3",
   "version": "3.6.6"
  }
 },
 "nbformat": 4,
 "nbformat_minor": 2
}
